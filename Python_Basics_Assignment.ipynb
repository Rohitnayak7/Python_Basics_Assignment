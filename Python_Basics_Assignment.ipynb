{
  "nbformat": 4,
  "nbformat_minor": 0,
  "metadata": {
    "colab": {
      "provenance": []
    },
    "kernelspec": {
      "name": "python3",
      "display_name": "Python 3"
    },
    "language_info": {
      "name": "python"
    }
  },
  "cells": [
    {
      "cell_type": "code",
      "source": [],
      "metadata": {
        "id": "cE0lorIU6Pkl"
      },
      "execution_count": null,
      "outputs": []
    },
    {
      "cell_type": "markdown",
      "source": [
        "#Python Basics\n",
        "\n",
        "\n",
        "1. What is Python, and why is it popular ?\n",
        "> Python is a interpreted programing language.\n",
        "  it is popular due to following reasons:\n",
        "  . Widely used in the industry.\n",
        "  . A lot of library.\n",
        "  . A lot of functions.\n",
        "  . Ease of learning.\n",
        "  . Huge community.\n",
        "  . Widely used in data industry.\n",
        "\n",
        "2. What is an interpreter in Python ?\n",
        "> An interpreter is a program that directly executes the instructions in programing language, line by line. it translate and execute the code simultaneously.\n",
        "\n",
        "3. What are pre-defined keywords in Python ?\n",
        "> A keyword have special meaning and cannot be used as varriable names or other identifiers.\n",
        "Here are few keywords listed below:\n",
        "  . True\n",
        "  . False\n",
        "  . while\n",
        "  . Else\n",
        "  . if\n",
        "\n",
        "4. Can keywords be used as variable names ?\n",
        "> No, Keywords can never be used as varriable name.\n",
        "\n",
        "5. What is mutability in Python ?\n",
        "> the ability of an object/container whose state can be changed or modified after created is known as mutability.\n",
        "\n",
        "6. Why are lists mutable, but tuples are immutable ?\n",
        "> List are mutable because they are dynamic and flexible type of data structure.\n",
        "tuples are immutable because they are fixed, orderd collection of elements and cannot be changed after creation.\n",
        "\n",
        "7.  What is the difference between “==” and “is” operators in Python ?\n",
        "> \"==\" is used for Value comparison of two objects while \"is\" used for identification.\n",
        "\n",
        "8. What are logical operators in Python ?\n",
        "> Logical operators are use to make decision based on multiple conditions\n",
        "  there are three logical operators: \"and\" \"or\" \"not\"\n",
        "\n",
        "9. What is type casting in Python ?\n",
        "> The process of changing the data type of a value or an object is known as type casting.\n",
        "\n",
        "10. What is the difference between implicit and explicit type casting ?\n",
        "> the implicit type casting automatically converts the one data type to another without any loss of data.\n",
        "Explicit type casting can result in loss of data while conversing the data type.\n",
        "\n",
        "11. What is the purpose of conditional statements in Python ?\n",
        "> The purpose of conditional statements in python is to code the decision based on some preconditions.\n",
        "\n",
        "12. How does the elif statement work ?\n",
        "> The \"elif\" condition checks the initial \"if\" condition. if the initial condition is false then it will check the \"elif\" condition. if the \"elif\" condition is true then it will execute the code block associated with it.\n",
        "\n",
        "13. What is the difference between for and while loops ?\n",
        "> for loop: it is use to iterate over a sequence and execute a block of code for each item in the sequence.\n",
        "  while loop: repeatedly execute a block of code until a condition is met.\n",
        "\n",
        "14.  Describe a scenario where a while loop is more suitable than a for   loop\n",
        "> User input validation is a sceario where a \"while\" loop is more suitable than a \"for\" loop when validating user input\n",
        "for example:\n",
        "  I want to ask the user for a password and I want to make sure the password meets certain criteria like minimum length and specific character.\n",
        "\n",
        "\n"
      ],
      "metadata": {
        "id": "84b-_AsKp-AO"
      }
    },
    {
      "cell_type": "code",
      "execution_count": null,
      "metadata": {
        "colab": {
          "base_uri": "https://localhost:8080/"
        },
        "id": "W2i1XJ2JoV6x",
        "outputId": "6695cd1b-b072-4071-b832-f741159a390b"
      },
      "outputs": [
        {
          "output_type": "stream",
          "name": "stdout",
          "text": [
            "Hello world\n"
          ]
        }
      ],
      "source": [
        "#Write a Python program to print \"Hello, World\"\n",
        "\n",
        "print(\"Hello world\")"
      ]
    },
    {
      "cell_type": "code",
      "source": [],
      "metadata": {
        "id": "jsBVI6vu-3vb"
      },
      "execution_count": null,
      "outputs": []
    },
    {
      "cell_type": "code",
      "source": [
        "#Write a Python program that displays your name and age\n",
        "\n",
        "name = input(\"Enter your name:\")\n",
        "age = input(\"Enter your age:\")\n",
        "\n",
        "print(\"My name is\", name)\n",
        "print(\"I am\", age,\"years old\")"
      ],
      "metadata": {
        "colab": {
          "base_uri": "https://localhost:8080/"
        },
        "id": "iagkS-ij--Pl",
        "outputId": "1ccfe3d1-f701-41b2-830c-7848166aef69"
      },
      "execution_count": null,
      "outputs": [
        {
          "output_type": "stream",
          "name": "stdout",
          "text": [
            "Enter your name:Rohit Nayak\n",
            "Enter your age:29\n",
            "My name is Rohit Nayak\n",
            "I am 29 years old\n"
          ]
        }
      ]
    },
    {
      "cell_type": "code",
      "source": [
        "#Write code to print all the pre-defined keywords in Python using the keyword library\n",
        "\n",
        "help(\"keywords\")\n"
      ],
      "metadata": {
        "colab": {
          "base_uri": "https://localhost:8080/"
        },
        "id": "1Mz0DaYk--MG",
        "outputId": "bc423880-2519-4ba0-b486-17db799ac3ee"
      },
      "execution_count": null,
      "outputs": [
        {
          "output_type": "stream",
          "name": "stdout",
          "text": [
            "\n",
            "Here is a list of the Python keywords.  Enter any keyword to get more help.\n",
            "\n",
            "False               class               from                or\n",
            "None                continue            global              pass\n",
            "True                def                 if                  raise\n",
            "and                 del                 import              return\n",
            "as                  elif                in                  try\n",
            "assert              else                is                  while\n",
            "async               except              lambda              with\n",
            "await               finally             nonlocal            yield\n",
            "break               for                 not                 \n",
            "\n"
          ]
        }
      ]
    },
    {
      "cell_type": "code",
      "source": [
        "#Write a program that checks if a given word is a Python keyword.\n",
        "\n",
        "\n",
        "import keyword\n",
        "\n",
        "Word = input(\"Enter a word: \")\n",
        "is_keyword = keyword.iskeyword(Word)\n",
        "\n",
        "if is_keyword:\n",
        "    print(\"'{Word}' is a Python keyword.\")\n",
        "else:\n",
        "    print(\"'{Word}' is not a Python keyword.\")"
      ],
      "metadata": {
        "colab": {
          "base_uri": "https://localhost:8080/"
        },
        "id": "JomeO_rD--J8",
        "outputId": "f61a8de9-bd41-41f5-a49e-0690b35a330a"
      },
      "execution_count": null,
      "outputs": [
        {
          "output_type": "stream",
          "name": "stdout",
          "text": [
            "Enter a word: while\n",
            "'{Word}' is a Python keyword.\n"
          ]
        }
      ]
    },
    {
      "cell_type": "code",
      "source": [
        "# Create a list and tuple in Python, and demonstrate how attempting to change an element works differently for each\n",
        "\n",
        "my_list = [1, 2, 3, 4, 5]\n",
        "print(\"Original list\", my_list)\n",
        "\n",
        "my_list[2]=20\n",
        "print(\"Modified list\", my_list)\n",
        "\n",
        "my_tuple = (1, 2, 3, 4, 5)\n",
        "print(\"Original tuple\", my_tuple)\n",
        "\n",
        "#convert my_tuple in to list\n",
        "\n",
        "temp_list = list(my_tuple)\n",
        "temp_list[3]=40\n",
        "my_tuple=tuple(temp_list)\n",
        "print(\"Modified tuple\", my_tuple)\n",
        "\n",
        "\n",
        "\n",
        "\n",
        "\n"
      ],
      "metadata": {
        "colab": {
          "base_uri": "https://localhost:8080/"
        },
        "id": "xWdwEElQ--GY",
        "outputId": "1e08aefc-309a-41ff-aca3-a91b4fa02228"
      },
      "execution_count": null,
      "outputs": [
        {
          "output_type": "stream",
          "name": "stdout",
          "text": [
            "Original list [1, 2, 3, 4, 5]\n",
            "Modified list [1, 2, 20, 4, 5]\n",
            "Original tuple (1, 2, 3, 4, 5)\n",
            "Modified tuple (1, 2, 3, 40, 5)\n"
          ]
        }
      ]
    },
    {
      "cell_type": "code",
      "source": [],
      "metadata": {
        "id": "Mx5mpCSa--ES"
      },
      "execution_count": null,
      "outputs": []
    },
    {
      "cell_type": "code",
      "source": [
        "# Write a program that performs basic arithmetic operations on two user-input numbers.\n",
        "\n",
        "\n",
        "user_1 = int(input(\"enter the first number: \"))\n",
        "user_2 = int(input(\"enter the second number: \"))\n",
        "\n",
        "add = user_1 + user_2\n",
        "sub = user_1 - user_2\n",
        "mul = user_1 * user_2\n",
        "div = user_1 / user_2\n",
        "\n",
        "print(\"Addition of two numbers is: \", add)\n",
        "print(\"Subtraction of two numbers is: \", sub)\n",
        "print(\"Multiplication of two numbers is: \", mul)\n",
        "print(\"Division of two numbers is: \", div)"
      ],
      "metadata": {
        "id": "uOIGX7H0--B5",
        "colab": {
          "base_uri": "https://localhost:8080/"
        },
        "outputId": "d4b7bfc4-2462-49eb-f8d0-c6b0986268cb"
      },
      "execution_count": null,
      "outputs": [
        {
          "output_type": "stream",
          "name": "stdout",
          "text": [
            "enter the first number: 9\n",
            "enter the second number: 3\n",
            "Addition of two numbers is:  12\n",
            "Subtraction of two numbers is:  6\n",
            "Multiplication of two numbers is:  27\n",
            "Division of two numbers is:  3.0\n"
          ]
        }
      ]
    },
    {
      "cell_type": "code",
      "source": [
        "# Write a program to demonstrate the use of logical operators.\n",
        "\n",
        "x = 10000\n",
        "y = 99380\n",
        "z = 798\n",
        "\n",
        "if x > y and x > z:\n",
        "  print(\"x is the largest number\")\n",
        "elif y > x and y > z:\n",
        "  print(\"y is the largest number\")\n",
        "else:\n",
        "  print(\"z is the largest number\")"
      ],
      "metadata": {
        "id": "NN1iE9EF--AA",
        "colab": {
          "base_uri": "https://localhost:8080/"
        },
        "outputId": "51ae2047-d90d-4557-872e-f8af68e0f91b"
      },
      "execution_count": null,
      "outputs": [
        {
          "output_type": "stream",
          "name": "stdout",
          "text": [
            "y is the largest number\n"
          ]
        }
      ]
    },
    {
      "cell_type": "code",
      "source": [
        "# Write a Python program to convert user input from string to integer, float, and boolean types.\n",
        "\n",
        "user = input(\"Enter a value: \")\n",
        "\n",
        "integer_value = int(user)\n",
        "float_value = float(user)\n",
        "boolean_value = bool(user)\n",
        "\n",
        "print(\"integer_value\", integer_value)\n",
        "print(\"float_value\", float_value)\n",
        "print(\"boolean_value\", boolean_value)"
      ],
      "metadata": {
        "id": "BC1hh5np-99t",
        "colab": {
          "base_uri": "https://localhost:8080/"
        },
        "outputId": "3d0533ab-87aa-4c57-f6cc-25f9b8ea504f"
      },
      "execution_count": null,
      "outputs": [
        {
          "output_type": "stream",
          "name": "stdout",
          "text": [
            "Enter a value: 9\n",
            "integer_value 9\n",
            "float_value 9.0\n",
            "boolean_value True\n"
          ]
        }
      ]
    },
    {
      "cell_type": "code",
      "source": [
        "#  Write code to demonstrate type casting with list elements.\n",
        "\n",
        "my_list = [\"1\", \"2\", 3, 4, 5.5]\n",
        "\n",
        "#type casting each element of list to integer\n",
        "\n",
        "int_list = [int(i) for i in my_list]\n",
        "print(int_list)\n",
        "\n",
        "#type casting each element of list to float\n",
        "\n",
        "float_list = [float(i) for i in my_list]\n",
        "print(float_list)\n",
        "\n",
        "#type casting each element of list to boolean\n",
        "\n",
        "bool_list = [bool(i) for i in my_list]\n",
        "print(bool_list)\n"
      ],
      "metadata": {
        "id": "3CqI4ISI-9fW",
        "colab": {
          "base_uri": "https://localhost:8080/"
        },
        "outputId": "cf7491b0-487b-4c5b-cd77-f8ad665eb0cb"
      },
      "execution_count": 39,
      "outputs": [
        {
          "output_type": "stream",
          "name": "stdout",
          "text": [
            "[1, 2, 3, 4, 5]\n",
            "[1.0, 2.0, 3.0, 4.0, 5.5]\n",
            "[True, True, True, True, True]\n"
          ]
        }
      ]
    },
    {
      "cell_type": "code",
      "source": [
        "#Write a program that checks if a number is positive, negative, or zero.\n",
        "\n",
        "Imagine = input(\"Enter a number: \")\n",
        "\n",
        "number = int(Imagine)\n",
        "\n",
        "if number > 0:\n",
        "  print(\"This is a positive number\")\n",
        "elif number < 0:\n",
        "    print(\"This is a negative number\")\n",
        "\n",
        "elif number == 0:\n",
        "    print(\"the number is ZERO\")"
      ],
      "metadata": {
        "id": "LVKmEMGQ-9cC",
        "colab": {
          "base_uri": "https://localhost:8080/"
        },
        "outputId": "8b3c46f5-aa9b-48f2-853a-220a6763b907"
      },
      "execution_count": null,
      "outputs": [
        {
          "output_type": "stream",
          "name": "stdout",
          "text": [
            "Enter a number: -100\n",
            "This is a negative number\n"
          ]
        }
      ]
    },
    {
      "cell_type": "code",
      "source": [
        "#  Write a for loop to print numbers from 1 to 10\n",
        "\n",
        "\n",
        "\n",
        "for i in range(1,11):\n",
        "  print(i)"
      ],
      "metadata": {
        "id": "4LdApzY8-9Zd",
        "colab": {
          "base_uri": "https://localhost:8080/"
        },
        "outputId": "107fb01e-3fa6-4430-cf56-a359792cf2b7"
      },
      "execution_count": 3,
      "outputs": [
        {
          "output_type": "stream",
          "name": "stdout",
          "text": [
            "1\n",
            "2\n",
            "3\n",
            "4\n",
            "5\n",
            "6\n",
            "7\n",
            "8\n",
            "9\n",
            "10\n"
          ]
        }
      ]
    },
    {
      "cell_type": "code",
      "source": [
        "# Write a Python program to find the sum of all even numbers between 1 and 50\n",
        "\n",
        "sum_even = 0\n",
        "for num in range(2,50, 2):\n",
        "  sum_even += num\n",
        "print(sum_even)\n"
      ],
      "metadata": {
        "id": "GKc60G6h-9Wy",
        "colab": {
          "base_uri": "https://localhost:8080/"
        },
        "outputId": "7acd1176-faab-409e-c6d2-a2e203036d92"
      },
      "execution_count": 4,
      "outputs": [
        {
          "output_type": "stream",
          "name": "stdout",
          "text": [
            "600\n"
          ]
        }
      ]
    },
    {
      "cell_type": "code",
      "source": [
        "#  Write a program to reverse a string using a while loop\n",
        "\n",
        "string = \"rohit\"\n",
        "\n",
        "rev_str = \"\"\n",
        "length = len(string)-1\n",
        "while length >=0:\n",
        "  rev_str += string[length]\n",
        "  length -= 1\n",
        "print(rev_str)"
      ],
      "metadata": {
        "id": "BuWDn4RD-9T-",
        "colab": {
          "base_uri": "https://localhost:8080/"
        },
        "outputId": "4bfd3560-c77d-4ed8-d074-a10be4f1f6e2"
      },
      "execution_count": 7,
      "outputs": [
        {
          "output_type": "stream",
          "name": "stdout",
          "text": [
            "tihor\n"
          ]
        }
      ]
    },
    {
      "cell_type": "code",
      "source": [
        "# Write a Python program to calculate the factorial of a number provided by the user using a while loop\n",
        "\n",
        "num = int(input(\"Enter a number \"))\n",
        "\n",
        "factorial = 1\n",
        "while num > 0:\n",
        "  factorial *= num\n",
        "  num -= 1\n",
        "print(\"Factorial number is \", factorial)"
      ],
      "metadata": {
        "id": "J-x848Nh-9Qv",
        "colab": {
          "base_uri": "https://localhost:8080/"
        },
        "outputId": "8847b2cc-3a99-4215-9df7-338ceee08387"
      },
      "execution_count": 18,
      "outputs": [
        {
          "output_type": "stream",
          "name": "stdout",
          "text": [
            "Enter a number 3\n",
            "Factorial number is  6\n"
          ]
        }
      ]
    },
    {
      "cell_type": "code",
      "source": [],
      "metadata": {
        "id": "VTO_bcJf-9Oo"
      },
      "execution_count": 18,
      "outputs": []
    },
    {
      "cell_type": "code",
      "source": [],
      "metadata": {
        "id": "PBia7Zac-9MH"
      },
      "execution_count": 16,
      "outputs": []
    }
  ]
}